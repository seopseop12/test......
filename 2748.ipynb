{
 "cells": [
  {
   "cell_type": "code",
   "execution_count": 7,
   "id": "684673b6",
   "metadata": {},
   "outputs": [
    {
     "name": "stdout",
     "output_type": "stream",
     "text": [
      "5\n",
      "5\n"
     ]
    }
   ],
   "source": [
    "n = int(input())\n",
    "\n",
    "j = []\n",
    "\n",
    "num = 0\n",
    "for i in range(n+1):\n",
    "    if i ==0:\n",
    "        num = 0\n",
    "    elif i<=2:\n",
    "        num =1\n",
    "    else:\n",
    "        num = j[-1] + j[-2]\n",
    "    j.append(num)\n",
    "print(j[-1])\n"
   ]
  },
  {
   "cell_type": "markdown",
   "id": "ac29d20e",
   "metadata": {},
   "source": [
    "##### fibo(5)"
   ]
  },
  {
   "cell_type": "code",
   "execution_count": null,
   "id": "596c65a6",
   "metadata": {},
   "outputs": [],
   "source": []
  }
 ],
 "metadata": {
  "kernelspec": {
   "display_name": "Python 3 (ipykernel)",
   "language": "python",
   "name": "python3"
  },
  "language_info": {
   "codemirror_mode": {
    "name": "ipython",
    "version": 3
   },
   "file_extension": ".py",
   "mimetype": "text/x-python",
   "name": "python",
   "nbconvert_exporter": "python",
   "pygments_lexer": "ipython3",
   "version": "3.9.7"
  }
 },
 "nbformat": 4,
 "nbformat_minor": 5
}
