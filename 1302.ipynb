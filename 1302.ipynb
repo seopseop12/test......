{
 "cells": [
  {
   "cell_type": "code",
   "execution_count": 76,
   "id": "1d945d62",
   "metadata": {
    "scrolled": false
   },
   "outputs": [
    {
     "name": "stdout",
     "output_type": "stream",
     "text": [
      "8\n",
      "ice\n",
      "ice\n",
      "pea\n",
      "cho\n",
      "cand\n",
      "app\n",
      "pea\n",
      "cho\n",
      "cho\n"
     ]
    }
   ],
   "source": [
    "n = int(input())\n",
    "lst = []\n",
    "a = dict()\n",
    "for _ in range(n):\n",
    "    s = str(input().split())\n",
    "    if a.get(s) == None:\n",
    "        a[s] = 1\n",
    "    else:\n",
    "        a[s] += 1\n",
    "\n",
    "        \n",
    "a = dict(sorted(a.items()))\n",
    "d = max(a,key=a.get)\n",
    "print(d[2:len(d)-2])\n"
   ]
  },
  {
   "cell_type": "code",
   "execution_count": 74,
   "id": "3a143054",
   "metadata": {},
   "outputs": [
    {
     "data": {
      "text/plain": [
       "{\"['icecream']\": 2,\n",
       " \"['peanuts']\": 2,\n",
       " \"['chocolate']\": 2,\n",
       " \"['candy']\": 1,\n",
       " \"['apple']\": 1}"
      ]
     },
     "execution_count": 74,
     "metadata": {},
     "output_type": "execute_result"
    }
   ],
   "source": [
    "a"
   ]
  },
  {
   "cell_type": "code",
   "execution_count": 61,
   "id": "0411eca0",
   "metadata": {
    "scrolled": false
   },
   "outputs": [
    {
     "name": "stdout",
     "output_type": "stream",
     "text": [
      "\n"
     ]
    }
   ],
   "source": [
    "print(max(a)[2:(len(a)-2)])"
   ]
  },
  {
   "cell_type": "code",
   "execution_count": 64,
   "id": "0e8c6028",
   "metadata": {},
   "outputs": [
    {
     "data": {
      "text/plain": [
       "{\"['ds']\": 2, \"['sd']\": 1}"
      ]
     },
     "execution_count": 64,
     "metadata": {},
     "output_type": "execute_result"
    }
   ],
   "source": [
    "a"
   ]
  },
  {
   "cell_type": "code",
   "execution_count": 63,
   "id": "260a1e92",
   "metadata": {},
   "outputs": [
    {
     "data": {
      "text/plain": [
       "\"['sd']\""
      ]
     },
     "execution_count": 63,
     "metadata": {},
     "output_type": "execute_result"
    }
   ],
   "source": [
    "max(a)"
   ]
  },
  {
   "cell_type": "code",
   "execution_count": 48,
   "id": "13ffddbe",
   "metadata": {},
   "outputs": [
    {
     "ename": "KeyError",
     "evalue": "2",
     "output_type": "error",
     "traceback": [
      "\u001b[1;31m---------------------------------------------------------------------------\u001b[0m",
      "\u001b[1;31mKeyError\u001b[0m                                  Traceback (most recent call last)",
      "\u001b[1;32m~\\AppData\\Local\\Temp/ipykernel_20072/2817813952.py\u001b[0m in \u001b[0;36m<module>\u001b[1;34m\u001b[0m\n\u001b[1;32m----> 1\u001b[1;33m \u001b[0ma\u001b[0m\u001b[1;33m[\u001b[0m\u001b[0mmax\u001b[0m\u001b[1;33m(\u001b[0m\u001b[0ma\u001b[0m\u001b[1;33m.\u001b[0m\u001b[0mvalues\u001b[0m\u001b[1;33m(\u001b[0m\u001b[1;33m)\u001b[0m\u001b[1;33m)\u001b[0m\u001b[1;33m]\u001b[0m\u001b[1;33m\u001b[0m\u001b[1;33m\u001b[0m\u001b[0m\n\u001b[0m",
      "\u001b[1;31mKeyError\u001b[0m: 2"
     ]
    }
   ],
   "source": [
    "a[max(a.values())]"
   ]
  },
  {
   "cell_type": "code",
   "execution_count": 26,
   "id": "b4beda01",
   "metadata": {},
   "outputs": [],
   "source": [
    "a = dict()\n",
    "a['orange'] = 1\n",
    "a['star'] = 1\n",
    "a['ssdf'] = 1"
   ]
  },
  {
   "cell_type": "code",
   "execution_count": 28,
   "id": "b77ebbc4",
   "metadata": {},
   "outputs": [
    {
     "data": {
      "text/plain": [
       "False"
      ]
     },
     "execution_count": 28,
     "metadata": {},
     "output_type": "execute_result"
    }
   ],
   "source": [
    "a.keys() == 'orange'"
   ]
  },
  {
   "cell_type": "code",
   "execution_count": 4,
   "id": "7c7b7bc5",
   "metadata": {},
   "outputs": [],
   "source": [
    "a['orange'] +=1"
   ]
  },
  {
   "cell_type": "code",
   "execution_count": 5,
   "id": "fe7460de",
   "metadata": {},
   "outputs": [
    {
     "data": {
      "text/plain": [
       "{'orange': 2, 'star': 1}"
      ]
     },
     "execution_count": 5,
     "metadata": {},
     "output_type": "execute_result"
    }
   ],
   "source": [
    "a"
   ]
  },
  {
   "cell_type": "code",
   "execution_count": 6,
   "id": "a550afb7",
   "metadata": {},
   "outputs": [
    {
     "data": {
      "text/plain": [
       "True"
      ]
     },
     "execution_count": 6,
     "metadata": {},
     "output_type": "execute_result"
    }
   ],
   "source": [
    "'orange' != a.keys() "
   ]
  },
  {
   "cell_type": "code",
   "execution_count": null,
   "id": "4a1b96a9",
   "metadata": {},
   "outputs": [],
   "source": []
  }
 ],
 "metadata": {
  "kernelspec": {
   "display_name": "Python 3 (ipykernel)",
   "language": "python",
   "name": "python3"
  },
  "language_info": {
   "codemirror_mode": {
    "name": "ipython",
    "version": 3
   },
   "file_extension": ".py",
   "mimetype": "text/x-python",
   "name": "python",
   "nbconvert_exporter": "python",
   "pygments_lexer": "ipython3",
   "version": "3.9.7"
  }
 },
 "nbformat": 4,
 "nbformat_minor": 5
}
