{
 "cells": [
  {
   "cell_type": "code",
   "execution_count": null,
   "id": "ad101f34",
   "metadata": {},
   "outputs": [],
   "source": [
    "n, m = map(int, input().split())\n",
    "s = []\n",
    "for i in range(n):\n",
    "    s.append(list(map(int, input().split())))\n",
    "dp = [[0] * (m + 1) for i in range(n + 1)]\n",
    "for i in range(1, n + 1):\n",
    "    for j in range(1, m + 1):\n",
    "        dp[i][j] = s[i - 1][j - 1] + max(dp[i - 1][j], dp[i][j - 1], dp[i - 1][j - 1])\n",
    "print(dp[n][m])"
   ]
  }
 ],
 "metadata": {
  "kernelspec": {
   "display_name": "Python 3 (ipykernel)",
   "language": "python",
   "name": "python3"
  },
  "language_info": {
   "codemirror_mode": {
    "name": "ipython",
    "version": 3
   },
   "file_extension": ".py",
   "mimetype": "text/x-python",
   "name": "python",
   "nbconvert_exporter": "python",
   "pygments_lexer": "ipython3",
   "version": "3.9.7"
  }
 },
 "nbformat": 4,
 "nbformat_minor": 5
}
