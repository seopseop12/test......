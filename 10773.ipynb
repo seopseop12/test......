{
 "cells": [
  {
   "cell_type": "code",
   "execution_count": 9,
   "id": "7fc619c6",
   "metadata": {
    "scrolled": true
   },
   "outputs": [
    {
     "name": "stdout",
     "output_type": "stream",
     "text": [
      "10\n",
      "1\n",
      "3\n",
      "5\n",
      "4\n",
      "0\n",
      "0\n",
      "7\n",
      "0\n",
      "0\n",
      "6\n",
      "7\n"
     ]
    }
   ],
   "source": [
    "s=[]\n",
    "j = 0\n",
    "n = int(input())\n",
    "for ㅑ in range(n):\n",
    "    k = (int(input()))\n",
    "    if k == 0:\n",
    "        s.pop()\n",
    "    else:\n",
    "        s.append(k)\n",
    "        \n",
    "if len(s) == 0:\n",
    "    print(0)\n",
    "else:\n",
    "    while len(s) != 0:\n",
    "        j = j + s.pop()\n",
    "print(j)"
   ]
  },
  {
   "cell_type": "code",
   "execution_count": 10,
   "id": "387014c7",
   "metadata": {},
   "outputs": [
    {
     "name": "stdout",
     "output_type": "stream",
     "text": [
      "4\n",
      "3\n",
      "0\n",
      "4\n",
      "0\n",
      "0\n"
     ]
    }
   ],
   "source": [
    "s=[]\n",
    "j = 0\n",
    "n = int(input())\n",
    "for _ in range(n):\n",
    "    k = (int(input()))\n",
    "    if k == 0:\n",
    "        s.pop()\n",
    "    else:\n",
    "        s.append(k)\n",
    "\n",
    "print(sum(s))"
   ]
  },
  {
   "cell_type": "markdown",
   "id": "0a9bc1eb",
   "metadata": {},
   "source": [
    "s=[]\n",
    "j = 0\n",
    "n = int(input())\n",
    "for ㅑ in range(n):\n",
    "    k = (int(input()))\n",
    "    if k == 0:\n",
    "        s.pop()\n",
    "    else:\n",
    "        s.append(k)\n",
    "        \n",
    "if len(s) == 0:\n",
    "    print(0)\n",
    "else:\n",
    "    while len(s) != 0:\n",
    "        j = j + s.pop()\n",
    "print(j)"
   ]
  }
 ],
 "metadata": {
  "kernelspec": {
   "display_name": "Python 3 (ipykernel)",
   "language": "python",
   "name": "python3"
  },
  "language_info": {
   "codemirror_mode": {
    "name": "ipython",
    "version": 3
   },
   "file_extension": ".py",
   "mimetype": "text/x-python",
   "name": "python",
   "nbconvert_exporter": "python",
   "pygments_lexer": "ipython3",
   "version": "3.9.7"
  }
 },
 "nbformat": 4,
 "nbformat_minor": 5
}
