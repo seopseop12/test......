{
 "cells": [
  {
   "cell_type": "code",
   "execution_count": 35,
   "id": "3e7e19af",
   "metadata": {},
   "outputs": [
    {
     "name": "stdout",
     "output_type": "stream",
     "text": [
      "6\n",
      "(())\n",
      "YES\n",
      "((((((())))))))))\n",
      "NO\n",
      "()\n",
      "YES\n",
      "()()()()(\n",
      "NO\n",
      "()))))\n",
      "NO\n",
      "()()(\n",
      "NO\n"
     ]
    }
   ],
   "source": [
    "n = int(input())\n",
    "for _ in range(n):\n",
    "    s = []\n",
    "    isVPS = True\n",
    "    for ch in input():\n",
    "        if ch ==\"(\":\n",
    "            s.append(\"(\")\n",
    "        elif ch == \")\":\n",
    "            if len(s) == 0:\n",
    "                isVPS = False\n",
    "                break\n",
    "            else:\n",
    "                s.pop()\n",
    "                    \n",
    "    if len(s) > 0:\n",
    "        isVPS = False\n",
    "    \n",
    "    print('YES' if isVPS else 'NO')"
   ]
  },
  {
   "cell_type": "code",
   "execution_count": null,
   "id": "7f1c4a38",
   "metadata": {},
   "outputs": [],
   "source": []
  }
 ],
 "metadata": {
  "kernelspec": {
   "display_name": "Python 3 (ipykernel)",
   "language": "python",
   "name": "python3"
  },
  "language_info": {
   "codemirror_mode": {
    "name": "ipython",
    "version": 3
   },
   "file_extension": ".py",
   "mimetype": "text/x-python",
   "name": "python",
   "nbconvert_exporter": "python",
   "pygments_lexer": "ipython3",
   "version": "3.9.7"
  }
 },
 "nbformat": 4,
 "nbformat_minor": 5
}
