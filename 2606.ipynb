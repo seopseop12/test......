{
 "cells": [
  {
   "cell_type": "code",
   "execution_count": null,
   "id": "e90412f1",
   "metadata": {},
   "outputs": [],
   "source": [
    "n = int(input())\n",
    "m = int(input())\n",
    "\n",
    "graph = [[] * n for _ in range(n+1)]\n",
    "for _ in range(m):\n",
    "  a, b = map(int,input().split())\n",
    "  graph[a].append(b)\n",
    "  graph[b].append(a)\n",
    "\n",
    "cnt = 0\n",
    "visitied = [0] * (n+1)\n",
    "\n",
    "\n",
    "def dfs(start):\n",
    "  global cnt\n",
    "  visitied[start] = 1\n",
    "  for i in graph[start]:\n",
    "    if visitied[i] == 0:\n",
    "      dfs(i)\n",
    "      cnt += 1\n",
    "\n",
    "dfs(1)\n",
    "print(cnt) "
   ]
  }
 ],
 "metadata": {
  "kernelspec": {
   "display_name": "Python 3 (ipykernel)",
   "language": "python",
   "name": "python3"
  },
  "language_info": {
   "codemirror_mode": {
    "name": "ipython",
    "version": 3
   },
   "file_extension": ".py",
   "mimetype": "text/x-python",
   "name": "python",
   "nbconvert_exporter": "python",
   "pygments_lexer": "ipython3",
   "version": "3.9.7"
  }
 },
 "nbformat": 4,
 "nbformat_minor": 5
}
