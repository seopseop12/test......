{
 "cells": [
  {
   "cell_type": "code",
   "execution_count": null,
   "id": "0819c5d7",
   "metadata": {},
   "outputs": [],
   "source": [
    "n,m = input().split()\n",
    "\n",
    "\n",
    "n = int(n[-1]+n[-2]+n[-3])\n",
    "m = int(m[-1]+m[-2]+m[-3])\n",
    "\n",
    "if int(n) > int(m):\n",
    "  print(int(n))\n",
    "else:\n",
    "  print(int(m))"
   ]
  }
 ],
 "metadata": {
  "kernelspec": {
   "display_name": "Python 3 (ipykernel)",
   "language": "python",
   "name": "python3"
  },
  "language_info": {
   "codemirror_mode": {
    "name": "ipython",
    "version": 3
   },
   "file_extension": ".py",
   "mimetype": "text/x-python",
   "name": "python",
   "nbconvert_exporter": "python",
   "pygments_lexer": "ipython3",
   "version": "3.9.7"
  }
 },
 "nbformat": 4,
 "nbformat_minor": 5
}
