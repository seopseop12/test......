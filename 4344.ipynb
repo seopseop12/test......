{
 "cells": [
  {
   "cell_type": "code",
   "execution_count": null,
   "id": "ca81e081",
   "metadata": {},
   "outputs": [],
   "source": [
    "C = int(input())\n",
    "\n",
    "while C > 0:\n",
    "    # 평균을 넘는 학생들의 수와 비율\n",
    "    n_good, percentage = 0, 0.0\n",
    "\n",
    "    # 성적 입력\n",
    "    scores = list(map(int, input().split()))\n",
    "    n = scores.pop(0)\n",
    "    average = sum(scores) / n\n",
    "\n",
    "    # 학생들의 수와 비율을 구한다\n",
    "    for score in scores:\n",
    "        if score > average:\n",
    "            n_good += 1\n",
    "    percentage = n_good / n * 100\n",
    "\n",
    "    # 결과 출력\n",
    "    print(f\"{percentage:.3f}%\")\n",
    "\n",
    "    C -= 1"
   ]
  }
 ],
 "metadata": {
  "kernelspec": {
   "display_name": "Python 3 (ipykernel)",
   "language": "python",
   "name": "python3"
  },
  "language_info": {
   "codemirror_mode": {
    "name": "ipython",
    "version": 3
   },
   "file_extension": ".py",
   "mimetype": "text/x-python",
   "name": "python",
   "nbconvert_exporter": "python",
   "pygments_lexer": "ipython3",
   "version": "3.9.7"
  }
 },
 "nbformat": 4,
 "nbformat_minor": 5
}
