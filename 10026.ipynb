{
 "cells": [
  {
   "cell_type": "code",
   "execution_count": null,
   "id": "ce46fed9",
   "metadata": {},
   "outputs": [],
   "source": [
    "from collections import deque\n",
    "\n",
    "dx = [1,-1,0,0]\n",
    "dy = [0,0,1,-1]\n",
    "\n",
    "def bfs(x,y):\n",
    "  q.append([x,y])\n",
    "  # c[x][y] = cnt\n",
    "  while q:\n",
    "    x,y = q.popleft()\n",
    "    for i in range(4):\n",
    "      nx = x + dx[i]\n",
    "      ny = y + dy[i]\n",
    "      if 0 <= nx < n and 0 <= ny < n:\n",
    "        if a[nx][ny] == a[x][y] and c[nx][ny] == 0:\n",
    "          q.append([nx,ny])\n",
    "          c[nx][ny] = 1\n",
    "\n",
    "n = int(input())\n",
    "a = [list(map(str,input())) for _ in range(n)]\n",
    "c = [[0] * n for _ in range(n)]\n",
    "q= deque()\n",
    "\n",
    "cnt = 0\n",
    "for i in range(n):\n",
    "  for j in range(n):\n",
    "    if c[i][j] == 0:\n",
    "      bfs(i,j)\n",
    "      cnt += 1\n",
    "print(cnt, end = ' ')\n",
    "\n",
    "for i in range(n):\n",
    "    for j in range(n):\n",
    "        if a[i][j] == 'R':\n",
    "            a[i][j] = 'G'\n",
    "c = [[0]*n for _ in range(n)]\n",
    "\n",
    "cnt = 0\n",
    "for i in range(n):\n",
    "    for j in range(n):\n",
    "        if c[i][j] == 0:\n",
    "            bfs(i, j)\n",
    "            cnt += 1\n",
    "print(cnt)"
   ]
  }
 ],
 "metadata": {
  "kernelspec": {
   "display_name": "Python 3 (ipykernel)",
   "language": "python",
   "name": "python3"
  },
  "language_info": {
   "codemirror_mode": {
    "name": "ipython",
    "version": 3
   },
   "file_extension": ".py",
   "mimetype": "text/x-python",
   "name": "python",
   "nbconvert_exporter": "python",
   "pygments_lexer": "ipython3",
   "version": "3.9.7"
  }
 },
 "nbformat": 4,
 "nbformat_minor": 5
}
