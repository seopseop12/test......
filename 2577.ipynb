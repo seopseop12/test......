{
 "cells": [
  {
   "cell_type": "code",
   "execution_count": null,
   "id": "ddd1a65d",
   "metadata": {},
   "outputs": [],
   "source": [
    "a = int(input())\n",
    "b = int(input())\n",
    "c = int(input())\n",
    "def solve(a,b,c):\n",
    "    ans = list(str(a*b*c))\n",
    "    for i in range(10):\n",
    "        print(ans.count(str(i)))\n",
    "    \n",
    "solve(a,b,c)"
   ]
  }
 ],
 "metadata": {
  "kernelspec": {
   "display_name": "Python 3 (ipykernel)",
   "language": "python",
   "name": "python3"
  },
  "language_info": {
   "codemirror_mode": {
    "name": "ipython",
    "version": 3
   },
   "file_extension": ".py",
   "mimetype": "text/x-python",
   "name": "python",
   "nbconvert_exporter": "python",
   "pygments_lexer": "ipython3",
   "version": "3.9.7"
  }
 },
 "nbformat": 4,
 "nbformat_minor": 5
}
