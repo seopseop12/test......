{
 "cells": [
  {
   "cell_type": "code",
   "execution_count": null,
   "id": "d2d8de85",
   "metadata": {},
   "outputs": [],
   "source": [
    "a = int(input())\n",
    "b = 0\n",
    "\n",
    "while a >= 0:\n",
    "    if a % 5 == 0:\n",
    "        b += int(a//5)\n",
    "        print(b)\n",
    "        break\n",
    "    a -= 3\n",
    "    b += 1\n",
    "    \n",
    "else:\n",
    "    print(-1)"
   ]
  }
 ],
 "metadata": {
  "kernelspec": {
   "display_name": "Python 3 (ipykernel)",
   "language": "python",
   "name": "python3"
  },
  "language_info": {
   "codemirror_mode": {
    "name": "ipython",
    "version": 3
   },
   "file_extension": ".py",
   "mimetype": "text/x-python",
   "name": "python",
   "nbconvert_exporter": "python",
   "pygments_lexer": "ipython3",
   "version": "3.9.7"
  }
 },
 "nbformat": 4,
 "nbformat_minor": 5
}
