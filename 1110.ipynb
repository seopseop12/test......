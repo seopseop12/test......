{
 "cells": [
  {
   "cell_type": "code",
   "execution_count": null,
   "id": "43eeba8f",
   "metadata": {},
   "outputs": [],
   "source": [
    "num = int(input())\n",
    "n = num\n",
    "new_num = 0\n",
    "temp = 0\n",
    "count = 0\n",
    "while True:\n",
    "    temp = num//10 + num%10\n",
    "    new_num = (num%10)*10 + temp%10\n",
    "    count += 1\n",
    "    num = new_num\n",
    "    if new_num == n:\n",
    "        break\n",
    "print(count)"
   ]
  }
 ],
 "metadata": {
  "kernelspec": {
   "display_name": "Python 3 (ipykernel)",
   "language": "python",
   "name": "python3"
  },
  "language_info": {
   "codemirror_mode": {
    "name": "ipython",
    "version": 3
   },
   "file_extension": ".py",
   "mimetype": "text/x-python",
   "name": "python",
   "nbconvert_exporter": "python",
   "pygments_lexer": "ipython3",
   "version": "3.9.7"
  }
 },
 "nbformat": 4,
 "nbformat_minor": 5
}
