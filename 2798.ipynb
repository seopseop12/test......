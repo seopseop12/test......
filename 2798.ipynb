{
 "cells": [
  {
   "cell_type": "code",
   "execution_count": null,
   "id": "e161e8fd",
   "metadata": {},
   "outputs": [],
   "source": [
    "n, m = map(int, input().split())\n",
    "num = list(map(int, input().split()))\n",
    "l = len(num)\n",
    "ans = 0\n",
    "for i in range(0, l-2):\n",
    "    for j in range(i+1, l-1):\n",
    "        for k in range(j+1, l):\n",
    "            if(num[i] + num[j] + num[k] > m):\n",
    "                continue\n",
    "            else:\n",
    "                ans = max(ans ,num[i] + num[j] + num[k])\n",
    "\n",
    "print(ans)"
   ]
  }
 ],
 "metadata": {
  "kernelspec": {
   "display_name": "Python 3 (ipykernel)",
   "language": "python",
   "name": "python3"
  },
  "language_info": {
   "codemirror_mode": {
    "name": "ipython",
    "version": 3
   },
   "file_extension": ".py",
   "mimetype": "text/x-python",
   "name": "python",
   "nbconvert_exporter": "python",
   "pygments_lexer": "ipython3",
   "version": "3.9.7"
  }
 },
 "nbformat": 4,
 "nbformat_minor": 5
}
