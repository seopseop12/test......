{
 "cells": [
  {
   "cell_type": "code",
   "execution_count": null,
   "id": "71a21169",
   "metadata": {},
   "outputs": [],
   "source": [
    "N, K = map(int, input().split()) \n",
    "\n",
    "\n",
    "c = []\n",
    "for _ in range(N):\n",
    "    c.append(int(input()))\n",
    "c.sort(reverse=True)\n",
    "\n",
    "answer = 0\n",
    "for d in c:\n",
    "    if K >= d:\n",
    "        answer += K // d \n",
    "        K %= d \n",
    "        if K <= 0: \n",
    "               break\n",
    "print(answer)"
   ]
  }
 ],
 "metadata": {
  "kernelspec": {
   "display_name": "Python 3 (ipykernel)",
   "language": "python",
   "name": "python3"
  },
  "language_info": {
   "codemirror_mode": {
    "name": "ipython",
    "version": 3
   },
   "file_extension": ".py",
   "mimetype": "text/x-python",
   "name": "python",
   "nbconvert_exporter": "python",
   "pygments_lexer": "ipython3",
   "version": "3.9.7"
  }
 },
 "nbformat": 4,
 "nbformat_minor": 5
}
